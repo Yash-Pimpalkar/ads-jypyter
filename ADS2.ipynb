{
 "cells": [
  {
   "cell_type": "code",
   "execution_count": 9,
   "metadata": {
    "id": "jGZnZ0rkCxHR"
   },
   "outputs": [],
   "source": [
    "import numpy as np\n",
    "import pandas as pd\n",
    "import seaborn as sns\n",
    "import matplotlib.pyplot as plt\n",
    "from sklearn.datasets import load_iris"
   ]
  },
  {
   "cell_type": "code",
   "execution_count": 10,
   "metadata": {
    "id": "uRYIn9w8Cy5E"
   },
   "outputs": [],
   "source": [
    "from sklearn.datasets import load_iris\n",
    "data = \"fictitious_dataset.csv\"\n",
    "df = pd.read_csv(data)"
   ]
  },
  {
   "cell_type": "code",
   "execution_count": 11,
   "metadata": {
    "colab": {
     "base_uri": "https://localhost:8080/"
    },
    "id": "KEmRyfs7C6kv",
    "outputId": "1c7048e9-7215-4932-de89-2b57224a4ac6"
   },
   "outputs": [
    {
     "name": "stdout",
     "output_type": "stream",
     "text": [
      "(10, 9)\n",
      "    id age_sex  height_cm  weight_kg  income_usd   bmi  hours_sleep  \\\n",
      "0  101    25_M        170         70     45000.0  24.2          7.0   \n",
      "1  102    30_F        160         65    -45000.0  25.4          6.0   \n",
      "2  103    22_M        175         72     49000.0  23.5          8.0   \n",
      "3  104    27_F        168         55     52000.0  19.5          7.0   \n",
      "4  105    35_M        180         85    -52000.0  26.2          5.0   \n",
      "\n",
      "   exercise_hours_weekly         city  \n",
      "0                    3.5     New York  \n",
      "1                    NaN  Los Angeles  \n",
      "2                    4.0      Chicago  \n",
      "3                    2.5      Houston  \n",
      "4                    NaN      Phoenix  \n",
      "    id age_sex  height_cm  weight_kg  income_usd   bmi  hours_sleep  \\\n",
      "5  106    40_F        158         60     47000.0  24.0          6.0   \n",
      "6  107    29_M        172         77    -49000.0  26.0          NaN   \n",
      "7  108    33_F        165         68     46000.0  25.0          6.0   \n",
      "8  109    28_M        177         75     48000.0  23.9          8.0   \n",
      "9  110    26_F        162         62         NaN  23.7          7.0   \n",
      "\n",
      "   exercise_hours_weekly          city  \n",
      "5                    1.5  Philadelphia  \n",
      "6                    5.0   San Antonio  \n",
      "7                    3.0        Dallas  \n",
      "8                    NaN     San Diego  \n",
      "9                    4.2      San Jose  \n",
      "<class 'pandas.core.frame.DataFrame'>\n",
      "RangeIndex: 10 entries, 0 to 9\n",
      "Data columns (total 9 columns):\n",
      " #   Column                 Non-Null Count  Dtype  \n",
      "---  ------                 --------------  -----  \n",
      " 0   id                     10 non-null     int64  \n",
      " 1   age_sex                10 non-null     object \n",
      " 2   height_cm              10 non-null     int64  \n",
      " 3   weight_kg              10 non-null     int64  \n",
      " 4   income_usd             9 non-null      float64\n",
      " 5   bmi                    10 non-null     float64\n",
      " 6   hours_sleep            9 non-null      float64\n",
      " 7   exercise_hours_weekly  7 non-null      float64\n",
      " 8   city                   10 non-null     object \n",
      "dtypes: float64(4), int64(3), object(2)\n",
      "memory usage: 852.0+ bytes\n",
      "None\n",
      "id                         int64\n",
      "age_sex                   object\n",
      "height_cm                  int64\n",
      "weight_kg                  int64\n",
      "income_usd               float64\n",
      "bmi                      float64\n",
      "hours_sleep              float64\n",
      "exercise_hours_weekly    float64\n",
      "city                      object\n",
      "dtype: object\n",
      "<bound method NDFrame.describe of     id age_sex  height_cm  weight_kg  income_usd   bmi  hours_sleep  \\\n",
      "0  101    25_M        170         70     45000.0  24.2          7.0   \n",
      "1  102    30_F        160         65    -45000.0  25.4          6.0   \n",
      "2  103    22_M        175         72     49000.0  23.5          8.0   \n",
      "3  104    27_F        168         55     52000.0  19.5          7.0   \n",
      "4  105    35_M        180         85    -52000.0  26.2          5.0   \n",
      "5  106    40_F        158         60     47000.0  24.0          6.0   \n",
      "6  107    29_M        172         77    -49000.0  26.0          NaN   \n",
      "7  108    33_F        165         68     46000.0  25.0          6.0   \n",
      "8  109    28_M        177         75     48000.0  23.9          8.0   \n",
      "9  110    26_F        162         62         NaN  23.7          7.0   \n",
      "\n",
      "   exercise_hours_weekly          city  \n",
      "0                    3.5      New York  \n",
      "1                    NaN   Los Angeles  \n",
      "2                    4.0       Chicago  \n",
      "3                    2.5       Houston  \n",
      "4                    NaN       Phoenix  \n",
      "5                    1.5  Philadelphia  \n",
      "6                    5.0   San Antonio  \n",
      "7                    3.0        Dallas  \n",
      "8                    NaN     San Diego  \n",
      "9                    4.2      San Jose  >\n",
      "Index(['id', 'age_sex', 'height_cm', 'weight_kg', 'income_usd', 'bmi',\n",
      "       'hours_sleep', 'exercise_hours_weekly', 'city'],\n",
      "      dtype='object')\n"
     ]
    }
   ],
   "source": [
    "print(df.shape)\n",
    "print(df.head())\n",
    "print(df.tail())\n",
    "print(df.info())\n",
    "print(df.dtypes)\n",
    "print(df.describe)\n",
    "print(df.columns)"
   ]
  },
  {
   "cell_type": "code",
   "execution_count": 12,
   "metadata": {
    "colab": {
     "base_uri": "https://localhost:8080/",
     "height": 430
    },
    "id": "ArpHZlmoC6RT",
    "outputId": "531cc00f-4886-4916-a87f-5cb1ce0705b8"
   },
   "outputs": [
    {
     "data": {
      "image/png": "[encoded data removed]",
      "text/plain": [
       "<Figure size 640x480 with 1 Axes>"
      ]
     },
     "metadata": {},
     "output_type": "display_data"
    }
   ],
   "source": [
    "df['income_usd'].plot(kind='hist')\n",
    "plt.show()"
   ]
  },
  {
   "cell_type": "code",
   "execution_count": 13,
   "metadata": {
    "colab": {
     "base_uri": "https://localhost:8080/",
     "height": 430
    },
    "id": "FJPw_oAzDFHZ",
    "outputId": "f9a2191e-537e-4d0a-d01d-498ae0fdbfd9"
   },
   "outputs": [
    {
     "data": {
      "image/png": "[encoded data removed]",
      "text/plain": [
       "<Figure size 640x480 with 1 Axes>"
      ]
     },
     "metadata": {},
     "output_type": "display_data"
    }
   ],
   "source": [
    "df.boxplot(column='income_usd')\n",
    "plt.show()"
   ]
  },
  {
   "cell_type": "code",
   "execution_count": 14,
   "metadata": {
    "colab": {
     "base_uri": "https://localhost:8080/",
     "height": 1000
    },
    "id": "eDWOUbZYDCdM",
    "outputId": "47a064ab-6465-4474-df89-07ac220212eb"
   },
   "outputs": [
    {
     "name": "stderr",
     "output_type": "stream",
     "text": [
      "C:\\Users\\Yash\\AppData\\Local\\Temp\\ipykernel_10884\\2490745415.py:8: FutureWarning: A value is trying to be set on a copy of a DataFrame or Series through chained assignment using an inplace method.\n",
      "The behavior will change in pandas 3.0. This inplace method will never work because the intermediate object on which we are setting values always behaves as a copy.\n",
      "\n",
      "For example, when doing 'df[col].method(value, inplace=True)', try using 'df.method({col: value}, inplace=True)' or df[col] = df[col].method(value) instead, to perform the operation inplace on the original object.\n",
      "\n",
      "\n",
      "  df['income_usd'].replace(-45000, 45000, inplace=True)\n",
      "C:\\Users\\Yash\\AppData\\Local\\Temp\\ipykernel_10884\\2490745415.py:9: FutureWarning: A value is trying to be set on a copy of a DataFrame or Series through chained assignment using an inplace method.\n",
      "The behavior will change in pandas 3.0. This inplace method will never work because the intermediate object on which we are setting values always behaves as a copy.\n",
      "\n",
      "For example, when doing 'df[col].method(value, inplace=True)', try using 'df.method({col: value}, inplace=True)' or df[col] = df[col].method(value) instead, to perform the operation inplace on the original object.\n",
      "\n",
      "\n",
      "  df['income_usd'].replace(-52000, 52000, inplace=True)\n",
      "C:\\Users\\Yash\\AppData\\Local\\Temp\\ipykernel_10884\\2490745415.py:10: FutureWarning: A value is trying to be set on a copy of a DataFrame or Series through chained assignment using an inplace method.\n",
      "The behavior will change in pandas 3.0. This inplace method will never work because the intermediate object on which we are setting values always behaves as a copy.\n",
      "\n",
      "For example, when doing 'df[col].method(value, inplace=True)', try using 'df.method({col: value}, inplace=True)' or df[col] = df[col].method(value) instead, to perform the operation inplace on the original object.\n",
      "\n",
      "\n",
      "  df['income_usd'].replace(-49000, 49000, inplace=True)\n",
      "C:\\Users\\Yash\\AppData\\Local\\Temp\\ipykernel_10884\\2490745415.py:13: FutureWarning: A value is trying to be set on a copy of a DataFrame or Series through chained assignment using an inplace method.\n",
      "The behavior will change in pandas 3.0. This inplace method will never work because the intermediate object on which we are setting values always behaves as a copy.\n",
      "\n",
      "For example, when doing 'df[col].method(value, inplace=True)', try using 'df.method({col: value}, inplace=True)' or df[col] = df[col].method(value) instead, to perform the operation inplace on the original object.\n",
      "\n",
      "\n",
      "  df['exercise_hours_weekly'].fillna(value = mean, inplace=True)\n"
     ]
    },
    {
     "data": {
      "text/html": [
       "<div>\n",
       "<style scoped>\n",
       "    .dataframe tbody tr th:only-of-type {\n",
       "        vertical-align: middle;\n",
       "    }\n",
       "\n",
       "    .dataframe tbody tr th {\n",
       "        vertical-align: top;\n",
       "    }\n",
       "\n",
       "    .dataframe thead th {\n",
       "        text-align: right;\n",
       "    }\n",
       "</style>\n",
       "<table border=\"1\" class=\"dataframe\">\n",
       "  <thead>\n",
       "    <tr style=\"text-align: right;\">\n",
       "      <th></th>\n",
       "      <th>id</th>\n",
       "      <th>age</th>\n",
       "      <th>sex</th>\n",
       "      <th>height_cm</th>\n",
       "      <th>weight_kg</th>\n",
       "      <th>income_usd</th>\n",
       "      <th>bmi</th>\n",
       "      <th>hours_sleep</th>\n",
       "      <th>exercise_hours_weekly</th>\n",
       "      <th>city</th>\n",
       "    </tr>\n",
       "  </thead>\n",
       "  <tbody>\n",
       "    <tr>\n",
       "      <th>0</th>\n",
       "      <td>101</td>\n",
       "      <td>25</td>\n",
       "      <td>M</td>\n",
       "      <td>170</td>\n",
       "      <td>70</td>\n",
       "      <td>45000.0</td>\n",
       "      <td>24.2</td>\n",
       "      <td>7.0</td>\n",
       "      <td>3.500000</td>\n",
       "      <td>New York</td>\n",
       "    </tr>\n",
       "    <tr>\n",
       "      <th>1</th>\n",
       "      <td>102</td>\n",
       "      <td>30</td>\n",
       "      <td>F</td>\n",
       "      <td>160</td>\n",
       "      <td>65</td>\n",
       "      <td>45000.0</td>\n",
       "      <td>25.4</td>\n",
       "      <td>6.0</td>\n",
       "      <td>3.385714</td>\n",
       "      <td>Los Angeles</td>\n",
       "    </tr>\n",
       "    <tr>\n",
       "      <th>2</th>\n",
       "      <td>103</td>\n",
       "      <td>22</td>\n",
       "      <td>M</td>\n",
       "      <td>175</td>\n",
       "      <td>72</td>\n",
       "      <td>49000.0</td>\n",
       "      <td>23.5</td>\n",
       "      <td>8.0</td>\n",
       "      <td>4.000000</td>\n",
       "      <td>Chicago</td>\n",
       "    </tr>\n",
       "    <tr>\n",
       "      <th>3</th>\n",
       "      <td>104</td>\n",
       "      <td>27</td>\n",
       "      <td>F</td>\n",
       "      <td>168</td>\n",
       "      <td>55</td>\n",
       "      <td>52000.0</td>\n",
       "      <td>19.5</td>\n",
       "      <td>7.0</td>\n",
       "      <td>2.500000</td>\n",
       "      <td>Houston</td>\n",
       "    </tr>\n",
       "    <tr>\n",
       "      <th>4</th>\n",
       "      <td>105</td>\n",
       "      <td>35</td>\n",
       "      <td>M</td>\n",
       "      <td>180</td>\n",
       "      <td>85</td>\n",
       "      <td>52000.0</td>\n",
       "      <td>26.2</td>\n",
       "      <td>5.0</td>\n",
       "      <td>3.385714</td>\n",
       "      <td>Phoenix</td>\n",
       "    </tr>\n",
       "    <tr>\n",
       "      <th>5</th>\n",
       "      <td>106</td>\n",
       "      <td>40</td>\n",
       "      <td>F</td>\n",
       "      <td>158</td>\n",
       "      <td>60</td>\n",
       "      <td>47000.0</td>\n",
       "      <td>24.0</td>\n",
       "      <td>6.0</td>\n",
       "      <td>1.500000</td>\n",
       "      <td>Philadelphia</td>\n",
       "    </tr>\n",
       "    <tr>\n",
       "      <th>6</th>\n",
       "      <td>107</td>\n",
       "      <td>29</td>\n",
       "      <td>M</td>\n",
       "      <td>172</td>\n",
       "      <td>77</td>\n",
       "      <td>49000.0</td>\n",
       "      <td>26.0</td>\n",
       "      <td>NaN</td>\n",
       "      <td>5.000000</td>\n",
       "      <td>San Antonio</td>\n",
       "    </tr>\n",
       "    <tr>\n",
       "      <th>7</th>\n",
       "      <td>108</td>\n",
       "      <td>33</td>\n",
       "      <td>F</td>\n",
       "      <td>165</td>\n",
       "      <td>68</td>\n",
       "      <td>46000.0</td>\n",
       "      <td>25.0</td>\n",
       "      <td>6.0</td>\n",
       "      <td>3.000000</td>\n",
       "      <td>Dallas</td>\n",
       "    </tr>\n",
       "    <tr>\n",
       "      <th>8</th>\n",
       "      <td>109</td>\n",
       "      <td>28</td>\n",
       "      <td>M</td>\n",
       "      <td>177</td>\n",
       "      <td>75</td>\n",
       "      <td>48000.0</td>\n",
       "      <td>23.9</td>\n",
       "      <td>8.0</td>\n",
       "      <td>3.385714</td>\n",
       "      <td>San Diego</td>\n",
       "    </tr>\n",
       "    <tr>\n",
       "      <th>9</th>\n",
       "      <td>110</td>\n",
       "      <td>26</td>\n",
       "      <td>F</td>\n",
       "      <td>162</td>\n",
       "      <td>62</td>\n",
       "      <td>NaN</td>\n",
       "      <td>23.7</td>\n",
       "      <td>7.0</td>\n",
       "      <td>4.200000</td>\n",
       "      <td>San Jose</td>\n",
       "    </tr>\n",
       "  </tbody>\n",
       "</table>\n",
       "</div>"
      ],
      "text/plain": [
       "    id age sex  height_cm  weight_kg  income_usd   bmi  hours_sleep  \\\n",
       "0  101  25   M        170         70     45000.0  24.2          7.0   \n",
       "1  102  30   F        160         65     45000.0  25.4          6.0   \n",
       "2  103  22   M        175         72     49000.0  23.5          8.0   \n",
       "3  104  27   F        168         55     52000.0  19.5          7.0   \n",
       "4  105  35   M        180         85     52000.0  26.2          5.0   \n",
       "5  106  40   F        158         60     47000.0  24.0          6.0   \n",
       "6  107  29   M        172         77     49000.0  26.0          NaN   \n",
       "7  108  33   F        165         68     46000.0  25.0          6.0   \n",
       "8  109  28   M        177         75     48000.0  23.9          8.0   \n",
       "9  110  26   F        162         62         NaN  23.7          7.0   \n",
       "\n",
       "   exercise_hours_weekly          city  \n",
       "0               3.500000      New York  \n",
       "1               3.385714   Los Angeles  \n",
       "2               4.000000       Chicago  \n",
       "3               2.500000       Houston  \n",
       "4               3.385714       Phoenix  \n",
       "5               1.500000  Philadelphia  \n",
       "6               5.000000   San Antonio  \n",
       "7               3.000000        Dallas  \n",
       "8               3.385714     San Diego  \n",
       "9               4.200000      San Jose  "
      ]
     },
     "execution_count": 14,
     "metadata": {},
     "output_type": "execute_result"
    }
   ],
   "source": [
    "# Assuming the column containing age and sex is named 'age_sex'\n",
    "# If it's different, replace 'age_sex' with the actual column name\n",
    "df[['age','sex']] = df['age_sex'].str.split(\"_\", expand = True)\n",
    "df.drop(['age_sex'], axis=1, inplace=True) # Drop the original combined column\n",
    "df = df[['id', 'age', 'sex', 'height_cm', 'weight_kg', 'income_usd',\n",
    "'bmi', 'hours_sleep',\n",
    "'exercise_hours_weekly', 'city']]\n",
    "df['income_usd'].replace(-45000, 45000, inplace=True)\n",
    "df['income_usd'].replace(-52000, 52000, inplace=True)\n",
    "df['income_usd'].replace(-49000, 49000, inplace=True)\n",
    "df.isnull().sum()\n",
    "mean = df['exercise_hours_weekly'].mean()\n",
    "df['exercise_hours_weekly'].fillna(value = mean, inplace=True)\n",
    "df"
   ]
  },
  {
   "cell_type": "code",
   "execution_count": null,
   "metadata": {},
   "outputs": [],
   "source": []
  }
 ],
 "metadata": {
  "colab": {
   "provenance": []
  },
  "kernelspec": {
   "display_name": "Python 3 (ipykernel)",
   "language": "python",
   "name": "python3"
  },
  "language_info": {
   "codemirror_mode": {
    "name": "ipython",
    "version": 3
   },
   "file_extension": ".py",
   "mimetype": "text/x-python",
   "name": "python",
   "nbconvert_exporter": "python",
   "pygments_lexer": "ipython3",
   "version": "3.12.3"
  }
 },
 "nbformat": 4,
 "nbformat_minor": 4
}
